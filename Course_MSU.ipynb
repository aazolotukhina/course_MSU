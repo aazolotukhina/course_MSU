{
  "nbformat": 4,
  "nbformat_minor": 0,
  "metadata": {
    "colab": {
      "name": "Course_MSU.ipynb",
      "provenance": [],
      "collapsed_sections": [],
      "authorship_tag": "ABX9TyPf5iv5yYa/TnrK9gO9eAhP",
      "include_colab_link": true
    },
    "kernelspec": {
      "name": "python3",
      "display_name": "Python 3"
    },
    "language_info": {
      "name": "python"
    }
  },
  "cells": [
    {
      "cell_type": "markdown",
      "metadata": {
        "id": "view-in-github",
        "colab_type": "text"
      },
      "source": [
        "<a href=\"https://colab.research.google.com/github/aazolotukhina/course_MSU/blob/main/Course_MSU.ipynb\" target=\"_parent\"><img src=\"https://colab.research.google.com/assets/colab-badge.svg\" alt=\"Open In Colab\"/></a>"
      ]
    },
    {
      "cell_type": "markdown",
      "metadata": {
        "id": "E0LJf6o2wsS9"
      },
      "source": [
        "# **ЛЕКЦИЯ 2**\n",
        "\n",
        "\n",
        "\n"
      ]
    },
    {
      "cell_type": "markdown",
      "metadata": {
        "id": "WvfxKuRwlmLU"
      },
      "source": [
        "G. В строке записаны два числа, разделенные пробелом. Поменяйте их местами и напечатайте результат."
      ]
    },
    {
      "cell_type": "code",
      "metadata": {
        "colab": {
          "base_uri": "https://localhost:8080/"
        },
        "id": "x5zqyNhblgXF",
        "outputId": "c6f92093-4f52-4340-a1b4-79ce645a485b"
      },
      "source": [
        "s = input(\"Введите числа:\")\n",
        "ind = s.find(' ')\n",
        "s_new = s[ind+1:]+' '+s[:ind]\n",
        "print(s_new)\n",
        "print(len(s_new))\n",
        "print(len('793423410 3254543')) \n",
        "print(s_new == '793423410 3254543')"
      ],
      "execution_count": null,
      "outputs": [
        {
          "output_type": "stream",
          "name": "stdout",
          "text": [
            "Введите числа:3254543 793423410\n",
            "793423410 3254543\n",
            "17\n",
            "17\n",
            "True\n"
          ]
        }
      ]
    },
    {
      "cell_type": "markdown",
      "metadata": {
        "id": "ho5H_0Kgoizy"
      },
      "source": [
        "H. Из почтового адреса нужно достать логин."
      ]
    },
    {
      "cell_type": "code",
      "metadata": {
        "colab": {
          "base_uri": "https://localhost:8080/"
        },
        "id": "kyNlHzbwm9I-",
        "outputId": "726fd5f8-12f3-4e3c-baf3-94549cf3ad95"
      },
      "source": [
        "s = input()\n",
        "n = s.find('@')\n",
        "print(s[:n])"
      ],
      "execution_count": null,
      "outputs": [
        {
          "output_type": "stream",
          "name": "stdout",
          "text": [
            "ivan@lenta.ru\n",
            "ivan\n"
          ]
        }
      ]
    },
    {
      "cell_type": "markdown",
      "metadata": {
        "id": "MOGY5Onjo8GH"
      },
      "source": [
        "I. Человек вводит на сайте номер телефона, ему позволено для удобства использовать кроме плюса и цифр знаки ‘-’, ‘)’, ‘(’ и пробелы. Уберите их из ввода."
      ]
    },
    {
      "cell_type": "code",
      "metadata": {
        "colab": {
          "base_uri": "https://localhost:8080/"
        },
        "id": "1XBRactLo91Z",
        "outputId": "ac054fd0-097f-408e-e36f-4f8bbadd5aea"
      },
      "source": [
        "s = input()\n",
        "s_new = s.replace('-','').replace('(','').replace(')','').replace(' ','')\n",
        "print(s_new)"
      ],
      "execution_count": null,
      "outputs": [
        {
          "output_type": "stream",
          "name": "stdout",
          "text": [
            "+7 (812) 134-12-324\n",
            "+781213412324\n"
          ]
        }
      ]
    },
    {
      "cell_type": "markdown",
      "metadata": {
        "id": "AyEytJNnrml7"
      },
      "source": [
        "J. Вам дана строка s, состоящая только из букв английского алфавита и пробелов. Напишите программу, которая определит, является ли строка s палиндромом."
      ]
    },
    {
      "cell_type": "code",
      "metadata": {
        "colab": {
          "base_uri": "https://localhost:8080/"
        },
        "id": "JE29KakXrxKo",
        "outputId": "c3527c69-e9e5-4aa4-d960-e7e0e90bf60c"
      },
      "source": [
        "s = input()\n",
        "s_new = s.lower().replace(' ','')\n",
        "if s_new == s_new[::-1]:\n",
        "  print('It is a palindrome')\n",
        "else:\n",
        "  print('It is not a palindrome')\n",
        "print(s_new,s_new[::-1],s_new == s_new[::-1])"
      ],
      "execution_count": null,
      "outputs": [
        {
          "output_type": "stream",
          "name": "stdout",
          "text": [
            "f AoAO  AF\n",
            "It is a palindrome\n",
            "faoaoaf faoaoaf True\n"
          ]
        }
      ]
    },
    {
      "cell_type": "markdown",
      "metadata": {
        "id": "BkA8V6PsthwD"
      },
      "source": [
        "K. Петя записал все числа от 1 до 123 (без пробелов). А потом вычеркнул все девятки. Какая строка у него получилась?"
      ]
    },
    {
      "cell_type": "code",
      "metadata": {
        "colab": {
          "base_uri": "https://localhost:8080/"
        },
        "id": "D-kBohlKtj5k",
        "outputId": "abb6474d-e880-4ae8-ed29-65fd68bbb92a"
      },
      "source": [
        "s = list(range(1,124))\n",
        "s = ''.join(str(symb) for symb in s) #List comprehension \n",
        "s = s.replace('9','')\n",
        "print(s)"
      ],
      "execution_count": null,
      "outputs": [
        {
          "output_type": "stream",
          "name": "stdout",
          "text": [
            "12345678101112131415161718120212223242526272823031323334353637383404142434445464748450515253545556575856061626364656667686707172737475767778780818283848586878880123456781001011021031041051061071081011011111211311411511611711811120121122123\n"
          ]
        }
      ]
    },
    {
      "cell_type": "markdown",
      "metadata": {
        "id": "gLUbpjSPHpe7"
      },
      "source": [
        "# **ЛЕКЦИЯ 3**"
      ]
    },
    {
      "cell_type": "markdown",
      "metadata": {
        "id": "1kjZ58a1HrQu"
      },
      "source": [
        "С. Выведите строку, в которой каждое слово строки s будет написано задом-наперёд, но порядок слов в строке не поменяется."
      ]
    },
    {
      "cell_type": "code",
      "metadata": {
        "colab": {
          "base_uri": "https://localhost:8080/"
        },
        "id": "M7HpKZ3WH35T",
        "outputId": "2e8d71fc-595e-49fb-fcd3-8a1bbbcf66dc"
      },
      "source": [
        "file = open('input.txt', 'w')\n",
        "file.writelines(\"Корабли лавировали-лавировали, да не вылавировали\")\n",
        "file.close()\n",
        "file = open('input.txt')\n",
        "for s in file:\n",
        "    s_new = [word[::-1]for word in s.split()]\n",
        "    print(' '.join(s_new))\n",
        "file.close()"
      ],
      "execution_count": null,
      "outputs": [
        {
          "output_type": "stream",
          "name": "stdout",
          "text": [
            "илбароК ,илаворивал-илаворивал ад ен илаворивалыв\n"
          ]
        }
      ]
    },
    {
      "cell_type": "markdown",
      "metadata": {
        "id": "k_flDh9TNSCe"
      },
      "source": [
        "D. Вывести строки, содержащие букву ё."
      ]
    },
    {
      "cell_type": "code",
      "metadata": {
        "colab": {
          "base_uri": "https://localhost:8080/"
        },
        "id": "hoCLiDX2NZYu",
        "outputId": "51e85277-d9b0-4fa4-ff87-605230c13fc1"
      },
      "source": [
        "file = open('input.txt', 'w')\n",
        "file.writelines([ \"В лесу родилась ёлочка,\\n\",\n",
        "                  \"В лесу она росла,\\n\",\n",
        "                  \"Зимой и летом стройная, зеленая была\\n\"])\n",
        "file.close()\n",
        "file = open('input.txt')\n",
        "lines = [line.strip() for line in file]\n",
        "filtered = filter(lambda l: 'ё' in l, lines)\n",
        "for line in filtered:\n",
        "  print(line)\n",
        "file.close()"
      ],
      "execution_count": null,
      "outputs": [
        {
          "output_type": "stream",
          "name": "stdout",
          "text": [
            "В лесу родилась ёлочка,\n"
          ]
        }
      ]
    },
    {
      "cell_type": "markdown",
      "metadata": {
        "id": "7qgI--VFRozM"
      },
      "source": [
        "E. Вывести строки, исключив каждое второе слово из каждой строчки текста.Знак препинания, следующий за словом, которое будет удалено, удаляется вместе со словом."
      ]
    },
    {
      "cell_type": "code",
      "metadata": {
        "colab": {
          "base_uri": "https://localhost:8080/"
        },
        "id": "B25t_E3iRtSB",
        "outputId": "6658a883-778f-4399-f553-8de504f23d3b"
      },
      "source": [
        "file = open('input.txt', 'w')\n",
        "file.writelines([ \"Мне типа привезли этот товар ну в вообще плохом совсем состоянии.\\n\",\n",
        "                  \"Плата там разбита прямо.\\n\", \n",
        "                  \"Я вот хочу типа вернуть это, деньги.\\n\"])\n",
        "file.close()\n",
        "file = open('input.txt')\n",
        "lines = [line.strip() for line in file]\n",
        "s_new = map(lambda line: line.split(),lines)\n",
        "for s in s_new:\n",
        "  print(' '.join(s[::2]))\n",
        "file.close()"
      ],
      "execution_count": null,
      "outputs": [
        {
          "output_type": "stream",
          "name": "stdout",
          "text": [
            "Мне привезли товар в плохом состоянии.\n",
            "Плата разбита\n",
            "Я хочу вернуть деньги.\n"
          ]
        }
      ]
    },
    {
      "cell_type": "markdown",
      "metadata": {
        "id": "oJ7MFjLPVluZ"
      },
      "source": [
        "F. Дан текстовый файл input.txt, содержащий следующую информацию:\n",
        "в первой строке записано число N,\n",
        "в следующих N строках содержатся имена студентов,\n",
        "а в следующих N строках — их даты рождения.\n",
        "\n",
        "Выведите построчно информацию из этого файла и запишите в файл output.txt, при этом разделяйте имена и даты рождения при помощи специального символа табуляции '\\t'."
      ]
    },
    {
      "cell_type": "code",
      "metadata": {
        "id": "siIu2h2yVtYw"
      },
      "source": [
        "file = open('input.txt', 'w')\n",
        "file.writelines([ \"3\\n\",\n",
        "                  \"Dania\\n\",\n",
        "                  \"Petya\\n\",\n",
        "                  \"Egor\\n\",\n",
        "                  \"13 oct\\n\",\n",
        "                  \"28 mar\\n\",\n",
        "                  \"26 feb\\n\"])\n",
        "file.close()\n",
        "file = open('input.txt')\n",
        "lines = [line.strip() for line in file]\n",
        "N = int(lines[0])\n",
        "names = lines[1:N+1]\n",
        "numbs = lines[N+1:]\n",
        "f = open('output.txt','w')\n",
        "for x, y in zip(names, numbs):\n",
        "    s = x+'\\t'+y+'\\n'\n",
        "    f.write(s)\n",
        "f.close()\n",
        "file.close()"
      ],
      "execution_count": null,
      "outputs": []
    },
    {
      "cell_type": "markdown",
      "metadata": {
        "id": "YyPR4KYfiTWF"
      },
      "source": [
        "G. Дан текстовый файл studygroup.txt, содержащий имена школьников 8 \"Б\". При помощи itertools.combinations вывести все способы назначения трёх дежурных."
      ]
    },
    {
      "cell_type": "code",
      "metadata": {
        "colab": {
          "base_uri": "https://localhost:8080/"
        },
        "id": "NI-bxUeri5M9",
        "outputId": "6dadeabb-2667-4b89-c6e3-b99ad9f98d21"
      },
      "source": [
        "import itertools as it\n",
        "file = open('studygroup.txt', 'w')\n",
        "file.write(\"Dima Petya Sasha Misha Egor\")\n",
        "file.close()\n",
        "file = open('studygroup.txt')\n",
        "for line in file:\n",
        "  n = line.split()\n",
        "print(n)\n",
        "for x, y, z in it.combinations(n, 3):\n",
        "    print('1:',x,'2:',y,'3:',z, sep = ' ')\n",
        "file.close()"
      ],
      "execution_count": null,
      "outputs": [
        {
          "output_type": "stream",
          "name": "stdout",
          "text": [
            "['Dima', 'Petya', 'Sasha', 'Misha', 'Egor']\n",
            "1: Dima 2: Petya 3: Sasha\n",
            "1: Dima 2: Petya 3: Misha\n",
            "1: Dima 2: Petya 3: Egor\n",
            "1: Dima 2: Sasha 3: Misha\n",
            "1: Dima 2: Sasha 3: Egor\n",
            "1: Dima 2: Misha 3: Egor\n",
            "1: Petya 2: Sasha 3: Misha\n",
            "1: Petya 2: Sasha 3: Egor\n",
            "1: Petya 2: Misha 3: Egor\n",
            "1: Sasha 2: Misha 3: Egor\n"
          ]
        }
      ]
    },
    {
      "cell_type": "markdown",
      "metadata": {
        "id": "_KauCaN9l9hn"
      },
      "source": [
        "# **ЛЕКЦИЯ 4**"
      ]
    },
    {
      "cell_type": "markdown",
      "metadata": {
        "id": "JNwAhagmmBbP"
      },
      "source": [
        "3. Перевести число из двоичной системы счисления в десятичную."
      ]
    },
    {
      "cell_type": "code",
      "metadata": {
        "id": "41lfWJRsmJ7M",
        "colab": {
          "base_uri": "https://localhost:8080/"
        },
        "outputId": "aecbf761-a0ed-468a-9880-eb661a4b0d7f"
      },
      "source": [
        "b = int(input(),2)\n",
        "print(b)"
      ],
      "execution_count": null,
      "outputs": [
        {
          "output_type": "stream",
          "name": "stdout",
          "text": [
            "11111111\n",
            "255\n"
          ]
        }
      ]
    },
    {
      "cell_type": "markdown",
      "metadata": {
        "id": "4PLSk7GHnRAj"
      },
      "source": [
        "4. Вычислить при помощи класса Fraction библиотеки fractions значение следующего выражения:\n",
        "![image.png](data:image/png;base64,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)\n",
        "​\n"
      ]
    },
    {
      "cell_type": "code",
      "metadata": {
        "id": "Hxi297sSnRao",
        "colab": {
          "base_uri": "https://localhost:8080/"
        },
        "outputId": "156e2413-d101-43e8-a161-34444f62807a"
      },
      "source": [
        "from fractions import Fraction\n",
        "file = open('input.txt', 'w')\n",
        "file.writelines([ \"-48 29\\n\",\n",
        "                  \"-538 363\\n\",\n",
        "                  \"-643 518\\n\"])\n",
        "file.close()\n",
        "file = open('input.txt')\n",
        "lines = [line.strip() for line in file]\n",
        "print(lines)\n",
        "an, ad = lines[0].split()\n",
        "an, ad = int(an), int(ad)\n",
        "bn, bd = lines[1].split()\n",
        "bn, bd = int(bn), int(bd)\n",
        "cn, cd = lines[2].split()\n",
        "cn, cd = int(cn), int(cd)\n",
        "a = Fraction(an, ad)\n",
        "b = Fraction(bn, bd)\n",
        "c = Fraction(cn, cd)\n",
        "print(round(float(b/a + b/(a+c) - c/(c-a)),4))"
      ],
      "execution_count": null,
      "outputs": [
        {
          "output_type": "stream",
          "name": "stdout",
          "text": [
            "['-48 29', '-538 363', '-643 518']\n",
            "4.4065\n"
          ]
        }
      ]
    },
    {
      "cell_type": "markdown",
      "metadata": {
        "id": "aWnay1p3sKOr"
      },
      "source": [
        "5. Вычислить сумму последовательности целых чисел, вводимых пользователем с клавиатуры, которая завершается нулём. Построчно вводятся целые числа. Последовательность заканчивается нулем. Вывести 2 числа через пробел: количество чисел (не считая 0) и сумму чисел."
      ]
    },
    {
      "cell_type": "code",
      "metadata": {
        "id": "utQbufiSsfMI",
        "colab": {
          "base_uri": "https://localhost:8080/"
        },
        "outputId": "c1e9df83-06f3-41a2-cb63-4530211d43b9"
      },
      "source": [
        "file = open('input.txt', 'w')\n",
        "file.writelines([ \"0\\n\"])\n",
        "file.close()\n",
        "file = open('input.txt')\n",
        "lines = [line.strip() for line in file]\n",
        "k=sum=0\n",
        "while int(lines[k]) != 0:\n",
        "    sum += int(lines[k])\n",
        "    k +=1\n",
        "print(k,sum)"
      ],
      "execution_count": null,
      "outputs": [
        {
          "output_type": "stream",
          "name": "stdout",
          "text": [
            "0 0\n"
          ]
        }
      ]
    },
    {
      "cell_type": "markdown",
      "metadata": {
        "id": "DGYwqy0euf0a"
      },
      "source": [
        "6. Найти номер наименьшего члена геометрической прогрессии, превышающего заданное пользователем число a."
      ]
    },
    {
      "cell_type": "code",
      "metadata": {
        "id": "00vG6cfdvFlD",
        "colab": {
          "base_uri": "https://localhost:8080/"
        },
        "outputId": "40b13de6-a006-4470-fd04-6124e3fba50e"
      },
      "source": [
        "b1, q, a = input().split()\n",
        "b1, q, a = float(b1), float(q), float(a)\n",
        "bn=0\n",
        "n = 0\n",
        "while bn < a:\n",
        "    n+=1\n",
        "    bn = b1*q**(n-1)\n",
        "print(n)"
      ],
      "execution_count": null,
      "outputs": [
        {
          "output_type": "stream",
          "name": "stdout",
          "text": [
            "1 2 3\n",
            "3\n"
          ]
        }
      ]
    },
    {
      "cell_type": "markdown",
      "metadata": {
        "id": "d5mbT3RZzFNe"
      },
      "source": [
        "7. Создайте программу для расчёта банковского вклада на заданный срок. Вклад без ежемесячного пополнения, но с ежемесячным начислением процентов и капитализацией (начислением процентов на проценты). Результат сохраните в файле output.csv."
      ]
    },
    {
      "cell_type": "code",
      "metadata": {
        "id": "ka57WJayzmMK",
        "colab": {
          "base_uri": "https://localhost:8080/"
        },
        "outputId": "ed853bcd-2a82-44e9-e989-aeca4798e61e"
      },
      "source": [
        "amount, period, rate = input().split()\n",
        "amount, period, rate = float(amount), int(period), float(rate)\n",
        "monthly_rate = rate/100/12\n",
        "months = period*12\n",
        "loan_months=0\n",
        "labels =  [\"Месяц\", \"Сумма на вкладе\", \"Начисление\"]\n",
        "with open('output.csv', 'w') as csv_file:\n",
        "  print(','.join(labels), file=csv_file)\n",
        "  while months>0:\n",
        "    profit = amount*monthly_rate\n",
        "    amount += profit\n",
        "    loan_months+=1\n",
        "    months-=1\n",
        "    print(f\"{loan_months}, {amount:0.2f}, {profit:0.2f}\", file=csv_file)\n",
        "    "
      ],
      "execution_count": null,
      "outputs": [
        {
          "name": "stdout",
          "output_type": "stream",
          "text": [
            "1000000 2 10\n"
          ]
        }
      ]
    },
    {
      "cell_type": "markdown",
      "metadata": {
        "id": "Fw1uzGlFvfmb"
      },
      "source": [
        "# **ЛЕКЦИЯ 5**"
      ]
    },
    {
      "cell_type": "markdown",
      "metadata": {
        "id": "XYB27qlqvjSP"
      },
      "source": [
        "3. Для игры в американский футбол собрались 22 мальчика с разным весом. Их вес (у всех он разный) и их имена (тоже у всех разные) даны в текстовом файле. Требуется создать две команды следующим образом: отсортировать всех ребят по убыванию веса, а затем 1-го, 3-го, 5-го и т.д. игроков отобрать в 1-ю команду, а оставшихся — во 2-ю команду. Вывести список команды №1 в первые 11 строк файла team.txt, а список команды №2 в последние 11 строк файла team.txt. В списках команд указывать и имена, и значения веса."
      ]
    },
    {
      "cell_type": "code",
      "metadata": {
        "id": "qVeWIIzHvmmu"
      },
      "source": [
        "file = open('weights.txt')\n",
        "lines = [line.strip().split() for line in file]\n",
        "lines_sorted = sorted(lines, reverse=True, key=lambda x: float(x[1]))\n",
        "team_1 = []\n",
        "team_2 = []\n",
        "team_1 = lines_sorted[0::2]\n",
        "team_2 = lines_sorted[1::2]\n",
        "f = open('team.txt','w')\n",
        "for s in team_1:\n",
        "    f.write(str(s[0]) + ' ' + str(s[1]) +'\\n')\n",
        "for s in team_2:\n",
        "    f.write(str(s[0]) + ' ' + str(s[1]) +'\\n')\n",
        "f.close()\n",
        "file.close()"
      ],
      "execution_count": null,
      "outputs": []
    },
    {
      "cell_type": "markdown",
      "metadata": {
        "id": "UvzCK6Zuvsz6"
      },
      "source": [
        "4. Журналист обнаружил в архиве ранее не публиковавшуюся шифровку Эдгара Алана По poe_unpublished.txt. Чтобы не просто представить её публике, а совершить сенсацию, он хочет расшифровать её и для этого нанял вас. Вы разобрались, что в тексте намеренно перепутаны строки, а в каждой строке перепутаны слова. Для применения алгоритма расшифрования нужно упорядочить строки по возрастанию количества слов в каждой строке (слова разделяются пробелами), а внутри каждой строки слова нужно упорядочить по количеству букв в них. Результат нужно сохранить в файл poe_decode_attempt.txt"
      ]
    },
    {
      "cell_type": "code",
      "metadata": {
        "id": "0TeGCN4_vwtG"
      },
      "source": [
        "file = open('poe_unpublished.txt')\n",
        "lines = [line.strip() for line in file]\n",
        "lines_sorted = sorted(lines,reverse=True)\n",
        "f = open('poe_decode_attempt.txt','w')\n",
        "for line in lines_sorted:\n",
        "     line_sorted = sorted(line.split(), key = len)\n",
        "     f.write(' '.join(line_sorted) + '\\n')\n",
        "f.close()\n",
        "file.close()"
      ],
      "execution_count": 104,
      "outputs": []
    },
    {
      "cell_type": "markdown",
      "metadata": {
        "id": "AY1MoJ49zNGN"
      },
      "source": [
        "5. Биолог провёл исследование устойчивости нескольких видов бактерий стрептококка к нескольким антибиотикам и получил численные оценки, характеризующие эффективность действия каждого препарата. Его данные хранятся в формате текстовой таблицы дробных чисел (с плавающей точкой) med_research.txt, при этом по горизонтали изменяются виды бактерий, а по вертикали — виды антибиотиков. Однако для отчёта требуется, чтобы виды антибиотиков шли по горизонтали, а виды бактерий — по вертикали. Биолог узнал, что эта операция называется в математике транспонированием, но он не знает, как её сделать автоматически. Если вы не поможете, то ему предстоит провести ночь, вручную переставляя числа в огромном листе. В файле хранятся только сами числа. Список видов бактерий и список антибиотиков вас не интересуют, биолог вставит их сам."
      ]
    },
    {
      "cell_type": "code",
      "metadata": {
        "id": "39_boLIIzaFQ"
      },
      "source": [
        "file = open('med_research.txt')\n",
        "lines = [line.strip().split() for line in file]\n",
        "rez = [[lines[j][i] for j in range(len(lines))] for i in range(len(lines[0]))]\n",
        "f = open('output.txt','w')\n",
        "for row in rez:\n",
        "    f.write(' '.join(row) + '\\n')\n",
        "file.close()\n",
        "f.close()"
      ],
      "execution_count": 84,
      "outputs": []
    },
    {
      "cell_type": "markdown",
      "metadata": {
        "id": "jzWCV9Ak2Vj1"
      },
      "source": [
        "6. Руководитель хочет узнать, какой из двух его заместителей A или B больше времени тратит на звонки по телефону. Для этого он установил шпионское ПО на их смартфоны и получил файл the_calls.txt, в котором для каждого звонка по телефону указано: дата в формате YYYY.MM.DD, длительность звонка в секундах (целое число), буква A или B, а также номер телефона, на который был совершён звонок (без пробелов, но со значком + и скобками). Поля в строке разделяются знаком табуляции.\n",
        "\n",
        "Руководителю более подозрительны звонки, длившиеся дольше всего, поэтому строки следует отсортировать в обратном порядке по длительности звонка (сначала самые длительные).\n",
        "\n",
        "Распределите строки из файла на два упорядоченных указанным образом списка, и запишите их в файл calls.txt: Сначала группу звонков A, затем - группу звонков B."
      ]
    },
    {
      "cell_type": "code",
      "metadata": {
        "id": "9u59rF5l2Yu1"
      },
      "source": [
        "file = open('the_calls.txt')\n",
        "lines = [line.strip().split() for line in file]\n",
        "lines_sorted = sorted(lines, reverse=True, key=lambda x: float(x[1]))\n",
        "f = open('calls.txt','w')\n",
        "calls_A = ''\n",
        "calls_B = ''\n",
        "for line in lines_sorted:\n",
        "  if line[2] == 'A':\n",
        "    calls_A = calls_A +'\\t'.join(line) + '\\n'\n",
        "  else:\n",
        "    calls_B = calls_B +'\\t'.join(line) + '\\n'\n",
        "f.write(calls_A)\n",
        "f.write(calls_B)\n",
        "file.close()\n",
        "f.close()"
      ],
      "execution_count": 94,
      "outputs": []
    }
  ]
}