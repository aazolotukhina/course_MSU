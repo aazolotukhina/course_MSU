{
  "nbformat": 4,
  "nbformat_minor": 0,
  "metadata": {
    "colab": {
      "name": "Course_MSU.ipynb",
      "provenance": [],
      "collapsed_sections": [],
      "authorship_tag": "ABX9TyNgfTJIQdr/xsTzeAHjBJT/",
      "include_colab_link": true
    },
    "kernelspec": {
      "name": "python3",
      "display_name": "Python 3"
    },
    "language_info": {
      "name": "python"
    }
  },
  "cells": [
    {
      "cell_type": "markdown",
      "metadata": {
        "id": "view-in-github",
        "colab_type": "text"
      },
      "source": [
        "<a href=\"https://colab.research.google.com/github/aazolotukhina/course_MSU/blob/main/Course_MSU.ipynb\" target=\"_parent\"><img src=\"https://colab.research.google.com/assets/colab-badge.svg\" alt=\"Open In Colab\"/></a>"
      ]
    },
    {
      "cell_type": "markdown",
      "metadata": {
        "id": "E0LJf6o2wsS9"
      },
      "source": [
        "# **ЛЕКЦИЯ 2**\n",
        "\n",
        "\n",
        "\n"
      ]
    },
    {
      "cell_type": "markdown",
      "metadata": {
        "id": "WvfxKuRwlmLU"
      },
      "source": [
        "G. В строке записаны два числа, разделенные пробелом. Поменяйте их местами и напечатайте результат."
      ]
    },
    {
      "cell_type": "code",
      "metadata": {
        "colab": {
          "base_uri": "https://localhost:8080/"
        },
        "id": "x5zqyNhblgXF",
        "outputId": "c6f92093-4f52-4340-a1b4-79ce645a485b"
      },
      "source": [
        "s = input(\"Введите числа:\")\n",
        "ind = s.find(' ')\n",
        "s_new = s[ind+1:]+' '+s[:ind]\n",
        "print(s_new)\n",
        "print(len(s_new))\n",
        "print(len('793423410 3254543')) \n",
        "print(s_new == '793423410 3254543')"
      ],
      "execution_count": null,
      "outputs": [
        {
          "output_type": "stream",
          "name": "stdout",
          "text": [
            "Введите числа:3254543 793423410\n",
            "793423410 3254543\n",
            "17\n",
            "17\n",
            "True\n"
          ]
        }
      ]
    },
    {
      "cell_type": "markdown",
      "metadata": {
        "id": "ho5H_0Kgoizy"
      },
      "source": [
        "H. Из почтового адреса нужно достать логин."
      ]
    },
    {
      "cell_type": "code",
      "metadata": {
        "colab": {
          "base_uri": "https://localhost:8080/"
        },
        "id": "kyNlHzbwm9I-",
        "outputId": "726fd5f8-12f3-4e3c-baf3-94549cf3ad95"
      },
      "source": [
        "s = input()\n",
        "n = s.find('@')\n",
        "print(s[:n])"
      ],
      "execution_count": null,
      "outputs": [
        {
          "output_type": "stream",
          "name": "stdout",
          "text": [
            "ivan@lenta.ru\n",
            "ivan\n"
          ]
        }
      ]
    },
    {
      "cell_type": "markdown",
      "metadata": {
        "id": "MOGY5Onjo8GH"
      },
      "source": [
        "I. Человек вводит на сайте номер телефона, ему позволено для удобства использовать кроме плюса и цифр знаки ‘-’, ‘)’, ‘(’ и пробелы. Уберите их из ввода."
      ]
    },
    {
      "cell_type": "code",
      "metadata": {
        "colab": {
          "base_uri": "https://localhost:8080/"
        },
        "id": "1XBRactLo91Z",
        "outputId": "ac054fd0-097f-408e-e36f-4f8bbadd5aea"
      },
      "source": [
        "s = input()\n",
        "s_new = s.replace('-','').replace('(','').replace(')','').replace(' ','')\n",
        "print(s_new)"
      ],
      "execution_count": null,
      "outputs": [
        {
          "output_type": "stream",
          "name": "stdout",
          "text": [
            "+7 (812) 134-12-324\n",
            "+781213412324\n"
          ]
        }
      ]
    },
    {
      "cell_type": "markdown",
      "metadata": {
        "id": "AyEytJNnrml7"
      },
      "source": [
        "J. Вам дана строка s, состоящая только из букв английского алфавита и пробелов. Напишите программу, которая определит, является ли строка s палиндромом."
      ]
    },
    {
      "cell_type": "code",
      "metadata": {
        "colab": {
          "base_uri": "https://localhost:8080/"
        },
        "id": "JE29KakXrxKo",
        "outputId": "c3527c69-e9e5-4aa4-d960-e7e0e90bf60c"
      },
      "source": [
        "s = input()\n",
        "s_new = s.lower().replace(' ','')\n",
        "if s_new == s_new[::-1]:\n",
        "  print('It is a palindrome')\n",
        "else:\n",
        "  print('It is not a palindrome')\n",
        "print(s_new,s_new[::-1],s_new == s_new[::-1])"
      ],
      "execution_count": null,
      "outputs": [
        {
          "output_type": "stream",
          "name": "stdout",
          "text": [
            "f AoAO  AF\n",
            "It is a palindrome\n",
            "faoaoaf faoaoaf True\n"
          ]
        }
      ]
    },
    {
      "cell_type": "markdown",
      "metadata": {
        "id": "BkA8V6PsthwD"
      },
      "source": [
        "K. Петя записал все числа от 1 до 123 (без пробелов). А потом вычеркнул все девятки. Какая строка у него получилась?"
      ]
    },
    {
      "cell_type": "code",
      "metadata": {
        "colab": {
          "base_uri": "https://localhost:8080/"
        },
        "id": "D-kBohlKtj5k",
        "outputId": "abb6474d-e880-4ae8-ed29-65fd68bbb92a"
      },
      "source": [
        "s = list(range(1,124))\n",
        "s = ''.join(str(symb) for symb in s) #List comprehension \n",
        "s = s.replace('9','')\n",
        "print(s)"
      ],
      "execution_count": null,
      "outputs": [
        {
          "output_type": "stream",
          "name": "stdout",
          "text": [
            "12345678101112131415161718120212223242526272823031323334353637383404142434445464748450515253545556575856061626364656667686707172737475767778780818283848586878880123456781001011021031041051061071081011011111211311411511611711811120121122123\n"
          ]
        }
      ]
    },
    {
      "cell_type": "markdown",
      "metadata": {
        "id": "gLUbpjSPHpe7"
      },
      "source": [
        "# **ЛЕКЦИЯ 3**"
      ]
    },
    {
      "cell_type": "markdown",
      "metadata": {
        "id": "1kjZ58a1HrQu"
      },
      "source": [
        "С. Выведите строку, в которой каждое слово строки s будет написано задом-наперёд, но порядок слов в строке не поменяется."
      ]
    },
    {
      "cell_type": "code",
      "metadata": {
        "colab": {
          "base_uri": "https://localhost:8080/"
        },
        "id": "M7HpKZ3WH35T",
        "outputId": "2e8d71fc-595e-49fb-fcd3-8a1bbbcf66dc"
      },
      "source": [
        "file = open('input.txt', 'w')\n",
        "file.writelines(\"Корабли лавировали-лавировали, да не вылавировали\")\n",
        "file.close()\n",
        "file = open('input.txt')\n",
        "for s in file:\n",
        "    s_new = [word[::-1]for word in s.split()]\n",
        "    print(' '.join(s_new))\n",
        "file.close()"
      ],
      "execution_count": null,
      "outputs": [
        {
          "output_type": "stream",
          "name": "stdout",
          "text": [
            "илбароК ,илаворивал-илаворивал ад ен илаворивалыв\n"
          ]
        }
      ]
    },
    {
      "cell_type": "markdown",
      "metadata": {
        "id": "k_flDh9TNSCe"
      },
      "source": [
        "D. Вывести строки, содержащие букву ё."
      ]
    },
    {
      "cell_type": "code",
      "metadata": {
        "colab": {
          "base_uri": "https://localhost:8080/"
        },
        "id": "hoCLiDX2NZYu",
        "outputId": "51e85277-d9b0-4fa4-ff87-605230c13fc1"
      },
      "source": [
        "file = open('input.txt', 'w')\n",
        "file.writelines([ \"В лесу родилась ёлочка,\\n\",\n",
        "                  \"В лесу она росла,\\n\",\n",
        "                  \"Зимой и летом стройная, зеленая была\\n\"])\n",
        "file.close()\n",
        "file = open('input.txt')\n",
        "lines = [line.strip() for line in file]\n",
        "filtered = filter(lambda l: 'ё' in l, lines)\n",
        "for line in filtered:\n",
        "  print(line)\n",
        "file.close()"
      ],
      "execution_count": null,
      "outputs": [
        {
          "output_type": "stream",
          "name": "stdout",
          "text": [
            "В лесу родилась ёлочка,\n"
          ]
        }
      ]
    },
    {
      "cell_type": "markdown",
      "metadata": {
        "id": "7qgI--VFRozM"
      },
      "source": [
        "E. Вывести строки, исключив каждое второе слово из каждой строчки текста.Знак препинания, следующий за словом, которое будет удалено, удаляется вместе со словом."
      ]
    },
    {
      "cell_type": "code",
      "metadata": {
        "colab": {
          "base_uri": "https://localhost:8080/"
        },
        "id": "B25t_E3iRtSB",
        "outputId": "6658a883-778f-4399-f553-8de504f23d3b"
      },
      "source": [
        "file = open('input.txt', 'w')\n",
        "file.writelines([ \"Мне типа привезли этот товар ну в вообще плохом совсем состоянии.\\n\",\n",
        "                  \"Плата там разбита прямо.\\n\", \n",
        "                  \"Я вот хочу типа вернуть это, деньги.\\n\"])\n",
        "file.close()\n",
        "file = open('input.txt')\n",
        "lines = [line.strip() for line in file]\n",
        "s_new = map(lambda line: line.split(),lines)\n",
        "for s in s_new:\n",
        "  print(' '.join(s[::2]))\n",
        "file.close()"
      ],
      "execution_count": null,
      "outputs": [
        {
          "output_type": "stream",
          "name": "stdout",
          "text": [
            "Мне привезли товар в плохом состоянии.\n",
            "Плата разбита\n",
            "Я хочу вернуть деньги.\n"
          ]
        }
      ]
    },
    {
      "cell_type": "markdown",
      "metadata": {
        "id": "oJ7MFjLPVluZ"
      },
      "source": [
        "F. Дан текстовый файл input.txt, содержащий следующую информацию:\n",
        "в первой строке записано число N,\n",
        "в следующих N строках содержатся имена студентов,\n",
        "а в следующих N строках — их даты рождения.\n",
        "\n",
        "Выведите построчно информацию из этого файла и запишите в файл output.txt, при этом разделяйте имена и даты рождения при помощи специального символа табуляции '\\t'."
      ]
    },
    {
      "cell_type": "code",
      "metadata": {
        "id": "siIu2h2yVtYw"
      },
      "source": [
        "file = open('input.txt', 'w')\n",
        "file.writelines([ \"3\\n\",\n",
        "                  \"Dania\\n\",\n",
        "                  \"Petya\\n\",\n",
        "                  \"Egor\\n\",\n",
        "                  \"13 oct\\n\",\n",
        "                  \"28 mar\\n\",\n",
        "                  \"26 feb\\n\"])\n",
        "file.close()\n",
        "file = open('input.txt')\n",
        "lines = [line.strip() for line in file]\n",
        "N = int(lines[0])\n",
        "names = lines[1:N+1]\n",
        "numbs = lines[N+1:]\n",
        "f = open('output.txt','w')\n",
        "for x, y in zip(names, numbs):\n",
        "    s = x+'\\t'+y+'\\n'\n",
        "    f.write(s)\n",
        "f.close()\n",
        "file.close()"
      ],
      "execution_count": null,
      "outputs": []
    },
    {
      "cell_type": "markdown",
      "metadata": {
        "id": "YyPR4KYfiTWF"
      },
      "source": [
        "G. Дан текстовый файл studygroup.txt, содержащий имена школьников 8 \"Б\". При помощи itertools.combinations вывести все способы назначения трёх дежурных."
      ]
    },
    {
      "cell_type": "code",
      "metadata": {
        "colab": {
          "base_uri": "https://localhost:8080/"
        },
        "id": "NI-bxUeri5M9",
        "outputId": "6dadeabb-2667-4b89-c6e3-b99ad9f98d21"
      },
      "source": [
        "import itertools as it\n",
        "file = open('studygroup.txt', 'w')\n",
        "file.write(\"Dima Petya Sasha Misha Egor\")\n",
        "file.close()\n",
        "file = open('studygroup.txt')\n",
        "for line in file:\n",
        "  n = line.split()\n",
        "print(n)\n",
        "for x, y, z in it.combinations(n, 3):\n",
        "    print('1:',x,'2:',y,'3:',z, sep = ' ')\n",
        "file.close()"
      ],
      "execution_count": null,
      "outputs": [
        {
          "output_type": "stream",
          "name": "stdout",
          "text": [
            "['Dima', 'Petya', 'Sasha', 'Misha', 'Egor']\n",
            "1: Dima 2: Petya 3: Sasha\n",
            "1: Dima 2: Petya 3: Misha\n",
            "1: Dima 2: Petya 3: Egor\n",
            "1: Dima 2: Sasha 3: Misha\n",
            "1: Dima 2: Sasha 3: Egor\n",
            "1: Dima 2: Misha 3: Egor\n",
            "1: Petya 2: Sasha 3: Misha\n",
            "1: Petya 2: Sasha 3: Egor\n",
            "1: Petya 2: Misha 3: Egor\n",
            "1: Sasha 2: Misha 3: Egor\n"
          ]
        }
      ]
    }
  ]
}